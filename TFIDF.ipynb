{
 "cells": [
  {
   "cell_type": "markdown",
   "metadata": {
    "id": "h9464I-uxLiw"
   },
   "source": [
    "# Assignment"
   ]
  },
  {
   "cell_type": "markdown",
   "metadata": {
    "id": "IvLvmewlxLix"
   },
   "source": [
    "<font face='georgia'>\n",
    "    \n",
    "   <h4><strong>What does tf-idf mean?</strong></h4>\n",
    "\n",
    "   <p>    \n",
    "Tf-idf stands for <em>term frequency-inverse document frequency</em>, and the tf-idf weight is a weight often used in information retrieval and text mining. This weight is a statistical measure used to evaluate how important a word is to a document in a collection or corpus. The importance increases proportionally to the number of times a word appears in the document but is offset by the frequency of the word in the corpus. Variations of the tf-idf weighting scheme are often used by search engines as a central tool in scoring and ranking a document's relevance given a user query.\n",
    "</p>\n",
    "    \n",
    "   <p>\n",
    "One of the simplest ranking functions is computed by summing the tf-idf for each query term; many more sophisticated ranking functions are variants of this simple model.\n",
    "</p>\n",
    "    \n",
    "   <p>\n",
    "Tf-idf can be successfully used for stop-words filtering in various subject fields including text summarization and classification.\n",
    "</p>\n",
    "    \n",
    "</font>"
   ]
  },
  {
   "cell_type": "markdown",
   "metadata": {
    "id": "4XLaGFUMxLiy"
   },
   "source": [
    "<font face='georgia'>\n",
    "    <h4><strong>How to Compute:</strong></h4>\n",
    "\n",
    "Typically, the tf-idf weight is composed by two terms: the first computes the normalized Term Frequency (TF), aka. the number of times a word appears in a document, divided by the total number of words in that document; the second term is the Inverse Document Frequency (IDF), computed as the logarithm of the number of the documents in the corpus divided by the number of documents where the specific term appears.\n",
    "\n",
    " <ul>\n",
    "    <li>\n",
    "<strong>TF:</strong> Term Frequency, which measures how frequently a term occurs in a document. Since every document is different in length, it is possible that a term would appear much more times in long documents than shorter ones. Thus, the term frequency is often divided by the document length (aka. the total number of terms in the document) as a way of normalization: <br>\n",
    "\n",
    "$TF(t) = \\frac{\\text{Number of times term t appears in a document}}{\\text{Total number of terms in the document}}.$\n",
    "</li>\n",
    "<li>\n",
    "<strong>IDF:</strong> Inverse Document Frequency, which measures how important a term is. While computing TF, all terms are considered equally important. However it is known that certain terms, such as \"is\", \"of\", and \"that\", may appear a lot of times but have little importance. Thus we need to weigh down the frequent terms while scale up the rare ones, by computing the following: <br>\n",
    "\n",
    "$IDF(t) = \\log_{e}\\frac{\\text{Total  number of documents}} {\\text{Number of documents with term t in it}}.$\n",
    "for numerical stabiltiy we will be changing this formula little bit\n",
    "$IDF(t) = \\log_{e}\\frac{\\text{Total  number of documents}} {\\text{Number of documents with term t in it}+1}.$\n",
    "</li>\n",
    "</ul>\n",
    "\n",
    "<br>\n",
    "<h4><strong>Example</strong></h4>\n",
    "<p>\n",
    "\n",
    "Consider a document containing 100 words wherein the word cat appears 3 times. The term frequency (i.e., tf) for cat is then (3 / 100) = 0.03. Now, assume we have 10 million documents and the word cat appears in one thousand of these. Then, the inverse document frequency (i.e., idf) is calculated as log(10,000,000 / 1,000) = 4. Thus, the Tf-idf weight is the product of these quantities: 0.03 * 4 = 0.12.\n",
    "</p>\n",
    "</font>"
   ]
  },
  {
   "cell_type": "markdown",
   "metadata": {
    "id": "dg2ooa4DxLiz"
   },
   "source": [
    "## Task-1"
   ]
  },
  {
   "cell_type": "markdown",
   "metadata": {
    "id": "TAcTjhO8xLiz"
   },
   "source": [
    "<font face='georgia'>\n",
    "    <h4><strong>1. Build a TFIDF Vectorizer & compare its results with Sklearn:</strong></h4>\n",
    "\n",
    "<ul>\n",
    "    <li> As a part of this task you will be implementing TFIDF vectorizer on a collection of text documents.</li>\n",
    "    <br>\n",
    "    <li> You should compare the results of your own implementation of TFIDF vectorizer with that of sklearns implemenation TFIDF vectorizer.</li>\n",
    "    <br>\n",
    "    <li> Sklearn does few more tweaks in the implementation of its version of TFIDF vectorizer, so to replicate the exact results you would need to add following things to your custom implementation of tfidf vectorizer:\n",
    "       <ol>\n",
    "        <li> Sklearn has its vocabulary generated from idf sroted in alphabetical order</li>\n",
    "        <li> Sklearn formula of idf is different from the standard textbook formula. Here the constant <strong>\"1\"</strong> is added to the numerator and denominator of the idf as if an extra document was seen containing every term in the collection exactly once, which prevents zero divisions.\n",
    "            \n",
    " $IDF(t) = 1+\\log_{e}\\frac{1\\text{ }+\\text{ Total  number of documents in collection}} {1+\\text{Number of documents with term t in it}}.$\n",
    "        </li>\n",
    "        <li> Sklearn applies L2-normalization on its output matrix.</li>\n",
    "        <li> The final output of sklearn tfidf vectorizer is a sparse matrix.</li>\n",
    "    </ol>\n",
    "    <br>\n",
    "    <li>Steps to approach this task:\n",
    "    <ol>\n",
    "        <li> You would have to write both fit and transform methods for your custom implementation of tfidf vectorizer.</li>\n",
    "        <li> Print out the alphabetically sorted voacb after you fit your data and check if its the same as that of the feature names from sklearn tfidf vectorizer. </li>\n",
    "        <li> Print out the idf values from your implementation and check if its the same as that of sklearns tfidf vectorizer idf values. </li>\n",
    "        <li> Once you get your voacb and idf values to be same as that of sklearns implementation of tfidf vectorizer, proceed to the below steps. </li>\n",
    "        <li> Make sure the output of your implementation is a sparse matrix. Before generating the final output, you need to normalize your sparse matrix using L2 normalization. You can refer to this link https://scikit-learn.org/stable/modules/generated/sklearn.preprocessing.normalize.html </li>\n",
    "        <li> After completing the above steps, print the output of your custom implementation and compare it with sklearns implementation of tfidf vectorizer.</li>\n",
    "        <li> To check the output of a single document in your collection of documents,  you can convert the sparse matrix related only to that document into dense matrix and print it.</li>\n",
    "        </ol>\n",
    "    </li>\n",
    "    <br>\n",
    "   </ul>\n",
    "\n",
    "  <p> <font color=\"#e60000\"><strong>Note-1: </strong></font> All the necessary outputs of sklearns tfidf vectorizer have been provided as reference in this notebook, you can compare your outputs as mentioned in the above steps, with these outputs.<br>\n",
    "   <font color=\"#e60000\"><strong>Note-2: </strong></font> The output of your custom implementation and that of sklearns implementation would match only with the collection of document strings provided to you as reference in this notebook. It would not match for strings that contain capital letters or punctuations, etc, because sklearn version of tfidf vectorizer deals with such strings in a different way. To know further details about how sklearn tfidf vectorizer works with such string, you can always refer to its official documentation.<br>\n",
    "   <font color=\"#e60000\"><strong>Note-3: </strong></font> During this task, it would be helpful for you to debug the code you write with print statements wherever necessary. But when you are finally submitting the assignment, make sure your code is readable and try not to print things which are not part of this task.\n",
    "    </p>"
   ]
  },
  {
   "cell_type": "markdown",
   "metadata": {
    "id": "OnV82tg1xLi0"
   },
   "source": [
    "### Corpus"
   ]
  },
  {
   "cell_type": "code",
   "execution_count": 1,
   "metadata": {
    "executionInfo": {
     "elapsed": 507,
     "status": "ok",
     "timestamp": 1638369072280,
     "user": {
      "displayName": "Aayush Sahu",
      "photoUrl": "https://lh3.googleusercontent.com/a-/AOh14Gir73FZw_LjKX0bQxC4Nbq9RM0xMJq6DTSxsv_8jQ=s64",
      "userId": "04331174264609951681"
     },
     "user_tz": -330
    },
    "id": "bUsYm9wjxLi1"
   },
   "outputs": [],
   "source": [
    "## SkLearn# Collection of string documents\n",
    "\n",
    "corpus = [\n",
    "     'this is the first document',\n",
    "     'this document is the second document',\n",
    "     'and this is the third one',\n",
    "     'is this the first document',\n",
    "]"
   ]
  },
  {
   "cell_type": "markdown",
   "metadata": {
    "id": "eLwmFZfKxLi4"
   },
   "source": [
    "### SkLearn Implementation"
   ]
  },
  {
   "cell_type": "code",
   "execution_count": 2,
   "metadata": {
    "executionInfo": {
     "elapsed": 783,
     "status": "ok",
     "timestamp": 1638358529382,
     "user": {
      "displayName": "Aayush Sahu",
      "photoUrl": "https://lh3.googleusercontent.com/a-/AOh14Gir73FZw_LjKX0bQxC4Nbq9RM0xMJq6DTSxsv_8jQ=s64",
      "userId": "04331174264609951681"
     },
     "user_tz": -330
    },
    "id": "Np4dfQOkxLi4"
   },
   "outputs": [],
   "source": [
    "from sklearn.feature_extraction.text import TfidfVectorizer\n",
    "vectorizer = TfidfVectorizer()\n",
    "vectorizer.fit(corpus)\n",
    "skl_output = vectorizer.transform(corpus)"
   ]
  },
  {
   "cell_type": "code",
   "execution_count": 3,
   "metadata": {
    "colab": {
     "base_uri": "https://localhost:8080/"
    },
    "executionInfo": {
     "elapsed": 22,
     "status": "ok",
     "timestamp": 1638358529383,
     "user": {
      "displayName": "Aayush Sahu",
      "photoUrl": "https://lh3.googleusercontent.com/a-/AOh14Gir73FZw_LjKX0bQxC4Nbq9RM0xMJq6DTSxsv_8jQ=s64",
      "userId": "04331174264609951681"
     },
     "user_tz": -330
    },
    "id": "-7Om8YpYxLi6",
    "outputId": "3d7424e9-a3c3-48c6-e091-ced484e53e26"
   },
   "outputs": [
    {
     "name": "stdout",
     "output_type": "stream",
     "text": [
      "['and' 'document' 'first' 'is' 'one' 'second' 'the' 'third' 'this']\n"
     ]
    }
   ],
   "source": [
    "# sklearn feature names, they are sorted in alphabetic order by default.\n",
    "\n",
    "print(vectorizer.get_feature_names_out())"
   ]
  },
  {
   "cell_type": "code",
   "execution_count": 4,
   "metadata": {
    "colab": {
     "base_uri": "https://localhost:8080/"
    },
    "executionInfo": {
     "elapsed": 19,
     "status": "ok",
     "timestamp": 1638358529384,
     "user": {
      "displayName": "Aayush Sahu",
      "photoUrl": "https://lh3.googleusercontent.com/a-/AOh14Gir73FZw_LjKX0bQxC4Nbq9RM0xMJq6DTSxsv_8jQ=s64",
      "userId": "04331174264609951681"
     },
     "user_tz": -330
    },
    "id": "dTKplK96xLi-",
    "outputId": "037ac4a7-2b85-42d0-af00-7b301c45838b",
    "scrolled": true
   },
   "outputs": [
    {
     "name": "stdout",
     "output_type": "stream",
     "text": [
      "[1.91629073 1.22314355 1.51082562 1.         1.91629073 1.91629073\n",
      " 1.         1.91629073 1.        ]\n"
     ]
    }
   ],
   "source": [
    "# Here we will print the sklearn tfidf vectorizer idf values after applying the fit method\n",
    "# After using the fit function on the corpus the vocab has 9 words in it, and each has its idf value.\n",
    "\n",
    "print(vectorizer.idf_)"
   ]
  },
  {
   "cell_type": "code",
   "execution_count": 5,
   "metadata": {
    "colab": {
     "base_uri": "https://localhost:8080/"
    },
    "executionInfo": {
     "elapsed": 16,
     "status": "ok",
     "timestamp": 1638358529384,
     "user": {
      "displayName": "Aayush Sahu",
      "photoUrl": "https://lh3.googleusercontent.com/a-/AOh14Gir73FZw_LjKX0bQxC4Nbq9RM0xMJq6DTSxsv_8jQ=s64",
      "userId": "04331174264609951681"
     },
     "user_tz": -330
    },
    "id": "-CTiWHygxLjA",
    "outputId": "c68d7aa6-3bde-4a61-cc3b-8cb4024ad665"
   },
   "outputs": [
    {
     "data": {
      "text/plain": [
       "(4, 9)"
      ]
     },
     "execution_count": 5,
     "metadata": {},
     "output_type": "execute_result"
    }
   ],
   "source": [
    "# shape of sklearn tfidf vectorizer output after applying transform method.\n",
    "\n",
    "skl_output.shape"
   ]
  },
  {
   "cell_type": "code",
   "execution_count": 6,
   "metadata": {
    "colab": {
     "base_uri": "https://localhost:8080/"
    },
    "executionInfo": {
     "elapsed": 15,
     "status": "ok",
     "timestamp": 1638358529385,
     "user": {
      "displayName": "Aayush Sahu",
      "photoUrl": "https://lh3.googleusercontent.com/a-/AOh14Gir73FZw_LjKX0bQxC4Nbq9RM0xMJq6DTSxsv_8jQ=s64",
      "userId": "04331174264609951681"
     },
     "user_tz": -330
    },
    "id": "bDKEpbA-xLjD",
    "outputId": "ed6a7b3c-3ce1-4520-a388-a1866ad7b7bf"
   },
   "outputs": [
    {
     "name": "stdout",
     "output_type": "stream",
     "text": [
      "  (0, 8)\t0.38408524091481483\n",
      "  (0, 6)\t0.38408524091481483\n",
      "  (0, 3)\t0.38408524091481483\n",
      "  (0, 2)\t0.5802858236844359\n",
      "  (0, 1)\t0.46979138557992045\n"
     ]
    }
   ],
   "source": [
    "# sklearn tfidf values for first line of the above corpus.\n",
    "# Here the output is a sparse matrix\n",
    "\n",
    "print(skl_output[0])"
   ]
  },
  {
   "cell_type": "code",
   "execution_count": 7,
   "metadata": {
    "colab": {
     "base_uri": "https://localhost:8080/"
    },
    "executionInfo": {
     "elapsed": 14,
     "status": "ok",
     "timestamp": 1638358529386,
     "user": {
      "displayName": "Aayush Sahu",
      "photoUrl": "https://lh3.googleusercontent.com/a-/AOh14Gir73FZw_LjKX0bQxC4Nbq9RM0xMJq6DTSxsv_8jQ=s64",
      "userId": "04331174264609951681"
     },
     "user_tz": -330
    },
    "id": "3QWo34hexLjF",
    "outputId": "c3c003e2-ace3-4f48-d9ef-15feb7b1fde4"
   },
   "outputs": [
    {
     "name": "stdout",
     "output_type": "stream",
     "text": [
      "[[0.         0.46979139 0.58028582 0.38408524 0.         0.\n",
      "  0.38408524 0.         0.38408524]]\n"
     ]
    }
   ],
   "source": [
    "# sklearn tfidf values for first line of the above corpus.\n",
    "# To understand the output better, here we are converting the sparse output matrix to dense matrix and printing it.\n",
    "# Notice that this output is normalized using L2 normalization. sklearn does this by default.\n",
    "\n",
    "print(skl_output[0].toarray())"
   ]
  },
  {
   "cell_type": "markdown",
   "metadata": {
    "id": "qfIwx5LzxLjI"
   },
   "source": [
    "### Your custom implementation"
   ]
  },
  {
   "cell_type": "code",
   "execution_count": 14,
   "metadata": {
    "executionInfo": {
     "elapsed": 13,
     "status": "ok",
     "timestamp": 1638358529387,
     "user": {
      "displayName": "Aayush Sahu",
      "photoUrl": "https://lh3.googleusercontent.com/a-/AOh14Gir73FZw_LjKX0bQxC4Nbq9RM0xMJq6DTSxsv_8jQ=s64",
      "userId": "04331174264609951681"
     },
     "user_tz": -330
    },
    "id": "HjuCcJwXxLjJ"
   },
   "outputs": [],
   "source": [
    "# Write your code here.\n",
    "# Make sure its well documented and readble with appropriate comments.\n",
    "# Compare your results with the above sklearn tfidf vectorizer\n",
    "# You are not supposed to use any other library apart from the ones given below\n",
    "\n",
    "from collections import Counter\n",
    "from tqdm import tqdm\n",
    "from scipy.sparse import csr_matrix\n",
    "import math\n",
    "import operator\n",
    "from sklearn.preprocessing import normalize\n",
    "import numpy"
   ]
  },
  {
   "cell_type": "code",
   "execution_count": 10,
   "metadata": {
    "colab": {
     "base_uri": "https://localhost:8080/"
    },
    "executionInfo": {
     "elapsed": 516,
     "status": "ok",
     "timestamp": 1638369190703,
     "user": {
      "displayName": "Aayush Sahu",
      "photoUrl": "https://lh3.googleusercontent.com/a-/AOh14Gir73FZw_LjKX0bQxC4Nbq9RM0xMJq6DTSxsv_8jQ=s64",
      "userId": "04331174264609951681"
     },
     "user_tz": -330
    },
    "id": "gasY8vDA7jnd",
    "outputId": "c0473f4a-b8df-4d44-b640-a2301782d9f6"
   },
   "outputs": [
    {
     "name": "stdout",
     "output_type": "stream",
     "text": [
      "Sklearn's feature ['and' 'document' 'first' 'is' 'one' 'second' 'the' 'third' 'this'] \n",
      "\n",
      "\n",
      "****************************************************************************************************\n",
      "\n",
      "\n",
      "Custom function features  ['and', 'document', 'first', 'is', 'one', 'second', 'the', 'third', 'this']\n"
     ]
    }
   ],
   "source": [
    "# Reference from Assignment_3_Reference.ipynb; Author: AppliedAi\n",
    "def tfidf_fit(dataset):    \n",
    "    unique_words = set() # at first we will initialize an empty set\n",
    "    # check if its list type or not\n",
    "    if isinstance(dataset, (list)):\n",
    "        for row in dataset: # for each review in the dataset\n",
    "            for word in row.split(\" \"): # for each word in the review. #split method converts a string into list of words\n",
    "                if len(word) < 2: \n",
    "                    continue\n",
    "                unique_words.add(word)\n",
    "        unique_words = sorted(list(unique_words)) # sorting the list of unique words\n",
    "        vocab = {j:i for i,j in enumerate(unique_words)}\n",
    "        \n",
    "        return vocab\n",
    "    else:\n",
    "        print(\"you need to pass list of sentance\")\n",
    "\n",
    "unique_words=list(tfidf_fit(corpus).keys()) # list containing unique words\n",
    "vocab=tfidf_fit(corpus) # dictionary conataining unique words as key and column index as value\n",
    "print(\"Sklearn's feature\",vectorizer.get_feature_names_out(),\"\\n\\n\")\n",
    "print(\"*\"*100)\n",
    "print(\"\\n\\nCustom function features \",unique_words)"
   ]
  },
  {
   "cell_type": "code",
   "execution_count": 11,
   "metadata": {
    "executionInfo": {
     "elapsed": 506,
     "status": "ok",
     "timestamp": 1638358571223,
     "user": {
      "displayName": "Aayush Sahu",
      "photoUrl": "https://lh3.googleusercontent.com/a-/AOh14Gir73FZw_LjKX0bQxC4Nbq9RM0xMJq6DTSxsv_8jQ=s64",
      "userId": "04331174264609951681"
     },
     "user_tz": -330
    },
    "id": "KgvMc0fR9r3b"
   },
   "outputs": [],
   "source": [
    "def idf(dataset,unique_words): #unique words is a list of words:vocab obtained from above\n",
    " idf_list=[]\n",
    " for term in unique_words:\n",
    "    count=0\n",
    "    for row in dataset:\n",
    "      if term in row:\n",
    "        count+=1\n",
    "    idf_list.append(1+math.log((1+len(dataset))/(1+count)))\n",
    " return idf_list\n"
   ]
  },
  {
   "cell_type": "code",
   "execution_count": 119,
   "metadata": {
    "colab": {
     "base_uri": "https://localhost:8080/"
    },
    "executionInfo": {
     "elapsed": 9153,
     "status": "ok",
     "timestamp": 1638369319629,
     "user": {
      "displayName": "Aayush Sahu",
      "photoUrl": "https://lh3.googleusercontent.com/a-/AOh14Gir73FZw_LjKX0bQxC4Nbq9RM0xMJq6DTSxsv_8jQ=s64",
      "userId": "04331174264609951681"
     },
     "user_tz": -330
    },
    "id": "Ooyo5Z9U81E5",
    "outputId": "7d5a2dc8-5421-4e58-855e-8d1c31c7d510"
   },
   "outputs": [
    {
     "name": "stdout",
     "output_type": "stream",
     "text": [
      "Sklearn's IDF values [1.91629073 1.22314355 1.51082562 1.         1.91629073 1.91629073\n",
      " 1.         1.91629073 1.        ] \n",
      "\n",
      "\n",
      "****************************************************************************************************\n",
      "\n",
      "\n",
      " Custom function idf values [1.916290731874155, 1.2231435513142097, 1.5108256237659907, 1.0, 1.916290731874155, 1.916290731874155, 1.0, 1.916290731874155, 1.0]\n"
     ]
    }
   ],
   "source": [
    "idf_list=idf(corpus,unique_words) # IDF frequency corresponding to each feature\n",
    "print(\"Sklearn's IDF values\",vectorizer.idf_,\"\\n\\n\")\n",
    "print(\"*\"*100)\n",
    "print(\"\\n\\n Custom function idf values\",idf_list)"
   ]
  },
  {
   "cell_type": "code",
   "execution_count": 12,
   "metadata": {
    "executionInfo": {
     "elapsed": 504,
     "status": "ok",
     "timestamp": 1638361219673,
     "user": {
      "displayName": "Aayush Sahu",
      "photoUrl": "https://lh3.googleusercontent.com/a-/AOh14Gir73FZw_LjKX0bQxC4Nbq9RM0xMJq6DTSxsv_8jQ=s64",
      "userId": "04331174264609951681"
     },
     "user_tz": -330
    },
    "id": "mFw4pt2PAniP"
   },
   "outputs": [],
   "source": [
    "def tfidf_transform(dataset,vocab,idf_list):\n",
    "\n",
    "  index=[]\n",
    "  feature= []\n",
    "  values= []\n",
    "\n",
    "  for idx,row in enumerate(dataset):\n",
    "    words=dict(Counter(row.split()))\n",
    "    for word,freq in words.items():\n",
    "      if len(word)<2:\n",
    "        continue\n",
    "      feature_idx=vocab.get(word,-1) # get return -1 if word not in vocab\n",
    "      if feature_idx!=-1: # if word is present in vocab then execute below code\n",
    "        feature.append(feature_idx)\n",
    "        index.append(idx)\n",
    "        values.append(idf_list[feature_idx]*freq/len(row))\n",
    "              \n",
    "  sparse_matrix=csr_matrix((values,(index,feature)),shape=(len(dataset),len(vocab))) # converting to a sparse matrix\n",
    "  return normalize(sparse_matrix) # L2-normalization of sparse matrix\n"
   ]
  },
  {
   "cell_type": "code",
   "execution_count": 121,
   "metadata": {
    "colab": {
     "base_uri": "https://localhost:8080/"
    },
    "executionInfo": {
     "elapsed": 579,
     "status": "ok",
     "timestamp": 1638369475516,
     "user": {
      "displayName": "Aayush Sahu",
      "photoUrl": "https://lh3.googleusercontent.com/a-/AOh14Gir73FZw_LjKX0bQxC4Nbq9RM0xMJq6DTSxsv_8jQ=s64",
      "userId": "04331174264609951681"
     },
     "user_tz": -330
    },
    "id": "bCEacCeUHAJm",
    "outputId": "18a88065-a6fa-4e5d-8777-d1d12d8d485d"
   },
   "outputs": [
    {
     "name": "stdout",
     "output_type": "stream",
     "text": [
      "sklearn tfidf values for first line of the above corpus\n",
      "   (0, 8)\t0.38408524091481483\n",
      "  (0, 6)\t0.38408524091481483\n",
      "  (0, 3)\t0.38408524091481483\n",
      "  (0, 2)\t0.5802858236844359\n",
      "  (0, 1)\t0.46979138557992045 \n",
      "\n",
      "\n",
      "****************************************************************************************************\n",
      "\n",
      "\n",
      " Custom function values of first document\n",
      "(0,1) \t\t 0.46979138557992045\n",
      "(0,2) \t\t 0.5802858236844359\n",
      "(0,3) \t\t 0.3840852409148149\n",
      "(0,6) \t\t 0.3840852409148149\n",
      "(0,8) \t\t 0.3840852409148149\n"
     ]
    }
   ],
   "source": [
    "print(\"sklearn tfidf values for first line of the above corpus\\n\",skl_output[0],\"\\n\\n\")\n",
    "print(\"*\"*100)\n",
    "print(\"\\n\\n Custom function values of first document\")\n",
    "doc1=tfidf_transform(corpus,vocab,idf_list).toarray()[0]\n",
    "for i in range(len(vocab)):\n",
    "  if doc1[i]!=0:\n",
    "    print(\"(0,{}) \\t\\t\".format(i),doc1[i])\n",
    "\n"
   ]
  },
  {
   "cell_type": "code",
   "execution_count": 126,
   "metadata": {
    "colab": {
     "base_uri": "https://localhost:8080/"
    },
    "executionInfo": {
     "elapsed": 1496,
     "status": "ok",
     "timestamp": 1638369667215,
     "user": {
      "displayName": "Aayush Sahu",
      "photoUrl": "https://lh3.googleusercontent.com/a-/AOh14Gir73FZw_LjKX0bQxC4Nbq9RM0xMJq6DTSxsv_8jQ=s64",
      "userId": "04331174264609951681"
     },
     "user_tz": -330
    },
    "id": "eF4fNDR866lf",
    "outputId": "8610a82b-fa00-41dc-cbf4-fac9c20ed29c"
   },
   "outputs": [
    {
     "name": "stdout",
     "output_type": "stream",
     "text": [
      "shape of sklearn tfidf vectorizer output after applying transform method\t\t (4, 9)\n",
      "Shape of matrix obtained by custome function is:\t\t\t\t\t (4, 9) \n",
      "\n",
      "First document of sparse matrix:\n",
      " [0.         0.46979139 0.58028582 0.38408524 0.         0.\n",
      " 0.38408524 0.         0.38408524]\n"
     ]
    }
   ],
   "source": [
    "print(\"shape of sklearn tfidf vectorizer output after applying transform method\\t\\t\",skl_output.shape)\n",
    "print(\"Shape of matrix obtained by custome function is:\\t\\t\\t\\t\\t\",tfidf_transform(corpus,vocab,idf_list).toarray().shape,\"\\n\")\n",
    "print(\"First document of sparse matrix:\\n\",tfidf_transform(corpus,vocab,idf_list).toarray()[0])"
   ]
  },
  {
   "cell_type": "markdown",
   "metadata": {
    "id": "MMxBmVZExLjK"
   },
   "source": [
    "## Task-2"
   ]
  },
  {
   "cell_type": "markdown",
   "metadata": {
    "id": "51j_OtqAxLjL"
   },
   "source": [
    "<font face='georgia'>\n",
    "    <h4><strong>2. Implement max features functionality:</strong></h4>\n",
    "\n",
    "<ul>\n",
    "    <li> As a part of this task you have to modify your fit and transform functions so that your vocab will contain only 50 terms with top idf scores.</li>\n",
    "    <br>\n",
    "    <li>This task is similar to your previous task, just that here your vocabulary is limited to only top 50 features names based on their idf values. Basically your output will have exactly 50 columns and the number of rows will depend on the number of documents you have in your corpus.</li>\n",
    "    <br>\n",
    "    <li>Here you will be give a pickle file, with file name <strong>cleaned_strings</strong>. You would have to load the corpus from this file and use it as input to your tfidf vectorizer.</li>\n",
    "    <br>\n",
    "    <li>Steps to approach this task:\n",
    "    <ol>\n",
    "        <li> You would have to write both fit and transform methods for your custom implementation of tfidf vectorizer, just like in the previous task. Additionally, here you have to limit the number of features generated to 50 as described above.</li>\n",
    "        <li> Now sort your vocab based in descending order of idf values and print out the words in the sorted voacb after you fit your data. Here you should be getting only 50 terms in your vocab. And make sure to print idf values for each term in your vocab. </li>\n",
    "        <li> Make sure the output of your implementation is a sparse matrix. Before generating the final output, you need to normalize your sparse matrix using L2 normalization. You can refer to this link https://scikit-learn.org/stable/modules/generated/sklearn.preprocessing.normalize.html </li>\n",
    "        <li> Now check the output of a single document in your collection of documents,  you can convert the sparse matrix related only to that document into dense matrix and print it. And this dense matrix should contain 1 row and 50 columns. </li>\n",
    "        </ol>\n",
    "    </li>\n",
    "    <br>\n",
    "   </ul>"
   ]
  },
  {
   "cell_type": "code",
   "execution_count": 8,
   "metadata": {
    "colab": {
     "base_uri": "https://localhost:8080/"
    },
    "executionInfo": {
     "elapsed": 561,
     "status": "ok",
     "timestamp": 1638369161993,
     "user": {
      "displayName": "Aayush Sahu",
      "photoUrl": "https://lh3.googleusercontent.com/a-/AOh14Gir73FZw_LjKX0bQxC4Nbq9RM0xMJq6DTSxsv_8jQ=s64",
      "userId": "04331174264609951681"
     },
     "user_tz": -330
    },
    "id": "NHxPLlwNxLjL",
    "outputId": "9c00f12e-408e-4b44-8213-05b4f4effaeb"
   },
   "outputs": [
    {
     "name": "stdout",
     "output_type": "stream",
     "text": [
      "Note: The pickle file is loaded from gdrive. Kindly change the path accordingly to load pickle file \n",
      "Number of documents in corpus =  746\n"
     ]
    }
   ],
   "source": [
    "# Below is the code to load the cleaned_strings pickle file provided\n",
    "# Here corpus is of list type\n",
    "print(\"Note: The pickle file is loaded from gdrive. Kindly change the path accordingly to load pickle file \")\n",
    "import pickle\n",
    "with open('cleaned_strings', 'rb') as f: # importing file from gdrive.\n",
    "    corpus2 = pickle.load(f)\n",
    "    \n",
    "# printing the length of the corpus loaded\n",
    "print(\"Number of documents in corpus = \",len(corpus2))"
   ]
  },
  {
   "cell_type": "code",
   "execution_count": null,
   "metadata": {
    "id": "ZULfoOIdxLjQ"
   },
   "outputs": [],
   "source": [
    "# Write your code here.\n",
    "# Try not to hardcode any values.\n",
    "# Make sure its well documented and readble with appropriate comments."
   ]
  },
  {
   "cell_type": "markdown",
   "metadata": {
    "id": "dGZBsd-idXSI"
   },
   "source": [
    "### Run the code below for Task2 "
   ]
  },
  {
   "cell_type": "code",
   "execution_count": 15,
   "metadata": {
    "colab": {
     "base_uri": "https://localhost:8080/"
    },
    "executionInfo": {
     "elapsed": 604,
     "status": "ok",
     "timestamp": 1638370340263,
     "user": {
      "displayName": "Aayush Sahu",
      "photoUrl": "https://lh3.googleusercontent.com/a-/AOh14Gir73FZw_LjKX0bQxC4Nbq9RM0xMJq6DTSxsv_8jQ=s64",
      "userId": "04331174264609951681"
     },
     "user_tz": -330
    },
    "id": "1_DJnnR3xLjR",
    "outputId": "d3899d47-360c-4b44-b14b-ec9e84475706"
   },
   "outputs": [
    {
     "name": "stdout",
     "output_type": "stream",
     "text": [
      "Fucntions from the above are used and changes are made to vocab and idf computation\n"
     ]
    }
   ],
   "source": [
    "# First tfidf_fit function is used to get list of unique words\n",
    "unique_words2=list(tfidf_fit(corpus2).keys()) # fitting the data; list of all unique words \n",
    "\n",
    "# idf function is called to get idf values for the above unique words\n",
    "idf_array=numpy.array(idf(corpus2,unique_words2))  # idf values corresponding to unique words\n",
    "\n",
    "#storing the index of Top 50 idf values\n",
    "sorted_index=list(numpy.argsort(idf_array))[::-1][:50] # index of words with Top 50 idf value \n",
    "print(\"Fucntions from the above are used and changes are made to vocab and idf computation\")"
   ]
  },
  {
   "cell_type": "code",
   "execution_count": 18,
   "metadata": {
    "colab": {
     "base_uri": "https://localhost:8080/"
    },
    "executionInfo": {
     "elapsed": 517,
     "status": "ok",
     "timestamp": 1638369851117,
     "user": {
      "displayName": "Aayush Sahu",
      "photoUrl": "https://lh3.googleusercontent.com/a-/AOh14Gir73FZw_LjKX0bQxC4Nbq9RM0xMJq6DTSxsv_8jQ=s64",
      "userId": "04331174264609951681"
     },
     "user_tz": -330
    },
    "id": "f0sFWfFDPjd8",
    "outputId": "0a9f6ce8-693b-4a0e-9739-b7415a29bf7a"
   },
   "outputs": [
    {
     "name": "stdout",
     "output_type": "stream",
     "text": [
      "Printing the vocab with Top 50 IDF values\n",
      "index  word\t\tIDF Value\n",
      "0   zombiez \t\t 6.922918004572872\n",
      "1   hugo \t\t 6.922918004572872\n",
      "2   holds \t\t 6.922918004572872\n",
      "3   hollander \t\t 6.922918004572872\n",
      "4   homework \t\t 6.922918004572872\n",
      "5   honestly \t\t 6.922918004572872\n",
      "6   hopefully \t\t 6.922918004572872\n",
      "7   hopeless \t\t 6.922918004572872\n",
      "8   horrendously \t\t 6.922918004572872\n",
      "9   horrid \t\t 6.922918004572872\n",
      "10   horrified \t\t 6.922918004572872\n",
      "11   hosting \t\t 6.922918004572872\n",
      "12   houses \t\t 6.922918004572872\n",
      "13   howdy \t\t 6.922918004572872\n",
      "14   howell \t\t 6.922918004572872\n",
      "15   humanity \t\t 6.922918004572872\n",
      "16   hoffman \t\t 6.922918004572872\n",
      "17   humans \t\t 6.922918004572872\n",
      "18   hummh \t\t 6.922918004572872\n",
      "19   hurt \t\t 6.922918004572872\n",
      "20   hype \t\t 6.922918004572872\n",
      "21   hypocrisy \t\t 6.922918004572872\n",
      "22   idealogical \t\t 6.922918004572872\n",
      "23   identified \t\t 6.922918004572872\n",
      "24   identifies \t\t 6.922918004572872\n",
      "25   idiotic \t\t 6.922918004572872\n",
      "26   idyllic \t\t 6.922918004572872\n",
      "27   imagine \t\t 6.922918004572872\n",
      "28   imdb \t\t 6.922918004572872\n",
      "29   impact \t\t 6.922918004572872\n",
      "30   holding \t\t 6.922918004572872\n",
      "31   hockey \t\t 6.922918004572872\n",
      "32   plug \t\t 6.922918004572872\n",
      "33   heels \t\t 6.922918004572872\n",
      "34   handles \t\t 6.922918004572872\n",
      "35   hankies \t\t 6.922918004572872\n",
      "36   happiness \t\t 6.922918004572872\n",
      "37   happy \t\t 6.922918004572872\n",
      "38   harris \t\t 6.922918004572872\n",
      "39   hatred \t\t 6.922918004572872\n",
      "40   havilland \t\t 6.922918004572872\n",
      "41   hayao \t\t 6.922918004572872\n",
      "42   hayworth \t\t 6.922918004572872\n",
      "43   heads \t\t 6.922918004572872\n",
      "44   hearts \t\t 6.922918004572872\n",
      "45   heartwarming \t\t 6.922918004572872\n",
      "46   heche \t\t 6.922918004572872\n",
      "47   heist \t\t 6.922918004572872\n",
      "48   hilt \t\t 6.922918004572872\n",
      "49   helen \t\t 6.922918004572872\n"
     ]
    }
   ],
   "source": [
    "# Printing the vocab with Top 50 IDF values\n",
    "print(\"Printing the vocab with Top 50 IDF values\")\n",
    "vocab2={} # creating a dictionary for vocab\n",
    "idf_array=numpy.sort(idf_array)[::-1][:50] # sorting the idf array by Top-50 values of idf \n",
    "print(\"index  word\\t\\tIDF Value\")\n",
    "for i,index_value in enumerate(sorted_index):\n",
    "  vocab2[i]=unique_words2[index_value]\n",
    "  print(i,\" \",unique_words2[index_value],\"\\t\\t\",idf_array[i])\n"
   ]
  },
  {
   "cell_type": "code",
   "execution_count": 137,
   "metadata": {
    "colab": {
     "base_uri": "https://localhost:8080/"
    },
    "executionInfo": {
     "elapsed": 521,
     "status": "ok",
     "timestamp": 1638370264301,
     "user": {
      "displayName": "Aayush Sahu",
      "photoUrl": "https://lh3.googleusercontent.com/a-/AOh14Gir73FZw_LjKX0bQxC4Nbq9RM0xMJq6DTSxsv_8jQ=s64",
      "userId": "04331174264609951681"
     },
     "user_tz": -330
    },
    "id": "y3VrEudpT42-",
    "outputId": "502a4bf6-17ea-4f00-f5a6-bba49753fbfd"
   },
   "outputs": [
    {
     "name": "stdout",
     "output_type": "stream",
     "text": [
      "Shape is:  (50,) \n",
      "\n",
      "\n",
      "First Document is: \n",
      " [0. 0. 0. 0. 0. 0. 0. 0. 0. 0. 0. 0. 0. 0. 0. 0. 0. 0. 0. 0. 0. 0. 0. 0.\n",
      " 0. 0. 0. 0. 0. 0. 0. 0. 0. 0. 0. 0. 0. 0. 0. 0. 0. 0. 0. 0. 0. 0. 0. 0.\n",
      " 0. 0.]\n"
     ]
    }
   ],
   "source": [
    "row1=tfidf_transform(corpus2,vocab2,idf_array).toarray()[0] # document 0 of sparse matrix obtained from custom transform function defined above \n",
    "print(\"Shape is: \",row1.shape,\"\\n\\n\")\n",
    "print(\"First Document is: \\n\",row1)"
   ]
  }
 ],
 "metadata": {
  "colab": {
   "collapsed_sections": [],
   "name": " Assignment_3.ipynb",
   "provenance": []
  },
  "kernelspec": {
   "display_name": "Python 3",
   "language": "python",
   "name": "python3"
  },
  "language_info": {
   "codemirror_mode": {
    "name": "ipython",
    "version": 3
   },
   "file_extension": ".py",
   "mimetype": "text/x-python",
   "name": "python",
   "nbconvert_exporter": "python",
   "pygments_lexer": "ipython3",
   "version": "3.8.5"
  }
 },
 "nbformat": 4,
 "nbformat_minor": 1
}
